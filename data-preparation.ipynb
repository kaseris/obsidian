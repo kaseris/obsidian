{
 "cells": [
  {
   "cell_type": "code",
   "execution_count": null,
   "id": "a1adfb33",
   "metadata": {},
   "outputs": [],
   "source": [
    "import os\n",
    "import os.path as osp\n",
    "import numpy as np\n",
    "import wandb\n",
    "from pathlib import Path\n",
    "\n",
    "from PIL import Image, ImageDraw\n",
    "import json"
   ]
  },
  {
   "cell_type": "code",
   "execution_count": null,
   "id": "717a8521",
   "metadata": {},
   "outputs": [],
   "source": [
    "WANDB_PROJECT = 'fashion-retrieval'\n",
    "ENTITY = None\n",
    "\n",
    "DEEP_FASHION_DIR = osp.join(osp.expanduser('~'), 'Documents', 'dev', 'DeepFashion')\n",
    "DEEP_FASHION_CLOTHING_ANNOS_DIR = osp.join(DEEP_FASHION_DIR, 'Anno_coarse')\n",
    "DEEP_FASHION_CLOTHING_IMAGES_DIR = osp.join(DEEP_FASHION_DIR, 'img')\n",
    "DEEP_FASHION_CLOTHING_CATEGORIES_PATH = osp.join(DEEP_FASHION_CLOTHING_ANNOS_DIR, 'list_category_cloth.txt')\n",
    "DEEP_FASHION_CLOTHING_ATTRIBUTES_PATH = osp.join(DEEP_FASHION_CLOTHING_ANNOS_DIR, 'list_attr_cloth.txt')\n",
    "DEEP_FASHION_CLOTHING_LIST_CAT_IMG_PATH = osp.join(DEEP_FASHION_CLOTHING_ANNOS_DIR, 'list_category_img.txt')\n",
    "DEEP_FASHION_CLOTHING_LIST_ATT_IMG_PATH = osp.join(DEEP_FASHION_CLOTHING_ANNOS_DIR, 'list_attr_img.txt')\n",
    "\n",
    "CLASS_LABELS = []\n",
    "ATTR_LABELS = []\n",
    "\n",
    "# 1. In category type, \"1\" represents upper-body clothes, \"2\" represents lower-body clothes, \"3\" represents full-body clothes;\n",
    "# 2. The order of category labels accords with the order of category names;\n",
    "# 3. In category labels, the number represents the category id in category names;\n",
    "# 4. For the clothing categories, \"Cape\", \"Nightdress\", \"Shirtdress\" and \"Sundress\" have been merged into \"Dress\";\n",
    "# 5. Category prediction is treated as a 1-of-K classification problem.\n",
    "\n",
    "CATEGORY_TYPES = {\n",
    "    1: 'upper-body',\n",
    "    2: 'lower-body',\n",
    "    3: 'full-body'\n",
    "}\n",
    "\n",
    "# 1. In attribute type, \"1\" represents texture-related attributes, \"2\" represents fabric-related attributes, \"3\" represents shape-related attributes, \"4\" represents part-related attributes, \"5\" represents style-related attributes;\n",
    "# 2. The order of attribute labels accords with the order of attribute names;\n",
    "# 3. In attribute labels, \"1\" represents positive while \"-1\" represents negative, '0' represents unknown;\n",
    "# 4. Attribute prediction is treated as a multi-label tagging problem.\n",
    "\n",
    "ATTRIBUTE_TYPES = {\n",
    "    1: 'texture',\n",
    "    2: 'fabric',\n",
    "    3: 'shape',\n",
    "    4: 'part',\n",
    "    5: 'style'\n",
    "}\n",
    "\n",
    "with open(DEEP_FASHION_CLOTHING_CATEGORIES_PATH, 'r') as f:\n",
    "    for idx, line in enumerate(f):\n",
    "        if idx > 1:\n",
    "            CLASS_LABELS.append(line.split()[0])\n",
    "            \n",
    "with open(DEEP_FASHION_CLOTHING_ATTRIBUTES_PATH, 'r') as f:\n",
    "    for idx, line in enumerate(f):\n",
    "        if idx > 1:\n",
    "            ATTR_LABELS.append(' '.join(l for l in line.split() if l.replace('-', '').isalpha()))\n",
    "            \n",
    "IDX_TO_CLASS = {idx + 1:c for idx, c in enumerate(CLASS_LABELS)}\n",
    "CLS_TO_IDX = {v: k for k, v in IDX_TO_CLASS.items()}\n",
    "\n",
    "DATA_DICT = dict()\n",
    "\n",
    "with open(DEEP_FASHION_CLOTHING_LIST_CAT_IMG_PATH, 'r') as f:\n",
    "    for idx, line in enumerate(f):\n",
    "        if idx > 1:\n",
    "            DATA_DICT[idx-2] = {\n",
    "                \"path\": line.split()[0],\n",
    "                \"cat_index\": int(line.split()[1]),\n",
    "                \"category\": IDX_TO_CLASS[int(line.split()[1])]\n",
    "            }\n",
    "\n",
    "with open(DEEP_FASHION_CLOTHING_LIST_ATT_IMG_PATH, 'r') as f:\n",
    "    for idx, line in enumerate(f):\n",
    "        if idx > 1:\n",
    "            DATA_DICT[idx-2]['attributes'] = [idx for idx, att in enumerate(line.split()[1:]) if int(att) > 0]  \n",
    "            \n",
    "            \n",
    "            "
   ]
  },
  {
   "cell_type": "code",
   "execution_count": null,
   "id": "664ca864",
   "metadata": {},
   "outputs": [],
   "source": [
    "IDX_TO_ATTR = {idx: val for idx, val in enumerate(ATTR_LABELS)}"
   ]
  },
  {
   "cell_type": "code",
   "execution_count": null,
   "id": "f60a92ab",
   "metadata": {},
   "outputs": [],
   "source": []
  },
  {
   "cell_type": "code",
   "execution_count": null,
   "id": "f74ec113",
   "metadata": {
    "scrolled": false
   },
   "outputs": [],
   "source": [
    "# Initiate a wandb run\n",
    "run = wandb.init(project=WANDB_PROJECT, entity=ENTITY, job_type='upload')"
   ]
  },
  {
   "cell_type": "code",
   "execution_count": null,
   "id": "a9c879da",
   "metadata": {},
   "outputs": [],
   "source": [
    "artifact = wandb.Artifact(name='deep-fashion', type='raw-data')"
   ]
  },
  {
   "cell_type": "code",
   "execution_count": null,
   "id": "e3012fae",
   "metadata": {},
   "outputs": [],
   "source": [
    "DEEP_FASHION_DIR"
   ]
  },
  {
   "cell_type": "code",
   "execution_count": null,
   "id": "e5cdd828",
   "metadata": {
    "scrolled": true
   },
   "outputs": [],
   "source": [
    "artifact.add_file(osp.join(DEEP_FASHION_DIR, 'README.txt'))\n",
    "# artifact.add_dir(DEEP_FASHION_CLOTHING_IMAGES_DIR, name='Images')\n",
    "# artifact.add_dir(DEEP_FASHION_CLOTHING_ANNOS_DIR, name='Annotations')"
   ]
  },
  {
   "cell_type": "code",
   "execution_count": null,
   "id": "7af16777",
   "metadata": {},
   "outputs": [],
   "source": [
    "run.log_artifact(artifact)"
   ]
  },
  {
   "cell_type": "code",
   "execution_count": null,
   "id": "36d4b8b7",
   "metadata": {},
   "outputs": [],
   "source": [
    "run.finish()"
   ]
  },
  {
   "cell_type": "code",
   "execution_count": null,
   "id": "205c1a23",
   "metadata": {
    "scrolled": false
   },
   "outputs": [],
   "source": [
    "run = wandb.init(project=WANDB_PROJECT, entity=ENTITY, job_type='upload')\n",
    "artifact = run.use_artifact('deep-fashion:latest',\n",
    "                            type='raw-data')\n",
    "artifact_dir = artifact.download()"
   ]
  },
  {
   "cell_type": "code",
   "execution_count": null,
   "id": "d4db2fd9",
   "metadata": {},
   "outputs": [],
   "source": [
    "import random\n",
    "idx = random.sample(range(0, len(DATA_DICT.keys())), 10000)"
   ]
  },
  {
   "cell_type": "code",
   "execution_count": null,
   "id": "4eb5c21f",
   "metadata": {},
   "outputs": [],
   "source": [
    "table = wandb.Table(columns=['Image Name', 'Image', 'Category', 'Attributes'])"
   ]
  },
  {
   "cell_type": "code",
   "execution_count": null,
   "id": "2dcb80c3",
   "metadata": {},
   "outputs": [],
   "source": [
    "for _i in idx:\n",
    "    data = DATA_DICT.get(_i)\n",
    "    _name = data['path'].split('/')[1]\n",
    "    _img = Image.open(osp.join(DEEP_FASHION_DIR, data['path']))\n",
    "    _cat = data['category']\n",
    "    _attrs = [IDX_TO_ATTR[attr] for attr in data['attributes']]\n",
    "    table.add_data(_name,\n",
    "                  wandb.Image(_img),\n",
    "                  _cat,\n",
    "                  _attrs)"
   ]
  },
  {
   "cell_type": "code",
   "execution_count": null,
   "id": "c46754b9",
   "metadata": {
    "scrolled": true
   },
   "outputs": [],
   "source": [
    "eda_artifact = wandb.Artifact('deep-fashion', type='raw-data')\n",
    "eda_artifact.add(table, name='EDA Table')"
   ]
  },
  {
   "cell_type": "code",
   "execution_count": null,
   "id": "c5a8724c",
   "metadata": {},
   "outputs": [],
   "source": [
    "run.log_artifact(eda_artifact)\n",
    "run.finish()"
   ]
  },
  {
   "cell_type": "code",
   "execution_count": null,
   "id": "601fc303",
   "metadata": {},
   "outputs": [],
   "source": [
    "# table = wandb.Table(columns=['Image Name', 'Image', 'Category', 'Attributes'])"
   ]
  },
  {
   "cell_type": "code",
   "execution_count": null,
   "id": "fff628fe",
   "metadata": {},
   "outputs": [],
   "source": [
    "# for key, val in DATA_DICT:\n",
    "#     img = Image.open(osp.join())\n",
    "#     table.add_data(val['path'].split('/')[1],\n",
    "#                   )"
   ]
  },
  {
   "cell_type": "code",
   "execution_count": null,
   "id": "8af86b10",
   "metadata": {
    "scrolled": true
   },
   "outputs": [],
   "source": [
    "def create_mask(img_shape, segmentation_map_list, category):\n",
    "    mask = np.zeros(img_shape[1]*img_shape[0], dtype=int)\n",
    "    return mask\n",
    "\n",
    "def get_polygon_regions(segm_mask):\n",
    "    return [[pair for pair in zip(region[::2], region[1::2])] for region in segm_mask]"
   ]
  },
  {
   "cell_type": "code",
   "execution_count": null,
   "id": "d4e42515",
   "metadata": {},
   "outputs": [],
   "source": [
    "DEEP_FASHION_TRAIN_DIR = os.path.join(DEEP_FASHION_DIR, 'train')\n",
    "DEEP_FASHION_VALIDATION_DIR = os.path.join(DEEP_FASHION_DIR, 'validation')\n",
    "DEEP_FASHION_TEST_DIR = os.path.join(DEEP_FASHION_DIR, 'test')"
   ]
  },
  {
   "cell_type": "code",
   "execution_count": null,
   "id": "977844c8",
   "metadata": {},
   "outputs": [],
   "source": [
    "train_annos = sorted(os.listdir(Path(DEEP_FASHION_TRAIN_DIR) / 'annos'))\n",
    "train_images = sorted(os.listdir(Path(DEEP_FASHION_TRAIN_DIR) / 'image'))"
   ]
  },
  {
   "cell_type": "code",
   "execution_count": null,
   "id": "b7dd1701",
   "metadata": {},
   "outputs": [],
   "source": [
    "train_annos_paths = list(map(lambda x: os.path.join(DEEP_FASHION_TRAIN_DIR, 'annos', x), train_annos))\n",
    "train_images_paths = list(map(lambda x: os.path.join(DEEP_FASHION_TRAIN_DIR, 'image', x), train_images))"
   ]
  },
  {
   "cell_type": "code",
   "execution_count": null,
   "id": "815bed95",
   "metadata": {
    "scrolled": true
   },
   "outputs": [],
   "source": [
    "with open(train_annos_paths[0], 'r') as f:\n",
    "    data = json.load(f)"
   ]
  },
  {
   "cell_type": "code",
   "execution_count": null,
   "id": "e4f6e927",
   "metadata": {},
   "outputs": [],
   "source": [
    "# These points define a polygon\n",
    "segm = data['item1']['segmentation']"
   ]
  },
  {
   "cell_type": "code",
   "execution_count": null,
   "id": "ece24251",
   "metadata": {},
   "outputs": [],
   "source": [
    "x, y = 257, 35\n",
    "nn[y*w + x]"
   ]
  },
  {
   "cell_type": "code",
   "execution_count": null,
   "id": "1f61fba3",
   "metadata": {},
   "outputs": [],
   "source": [
    "nn.reshape(h, w)[35, 257]"
   ]
  },
  {
   "cell_type": "code",
   "execution_count": null,
   "id": "d7cc912e",
   "metadata": {},
   "outputs": [],
   "source": [
    "img = Image.open(train_images_paths[0]).convert('RGB')"
   ]
  },
  {
   "cell_type": "code",
   "execution_count": null,
   "id": "f224425a",
   "metadata": {},
   "outputs": [],
   "source": [
    "polys = get_polygon_regions(segm)"
   ]
  },
  {
   "cell_type": "code",
   "execution_count": null,
   "id": "e7da994d",
   "metadata": {},
   "outputs": [],
   "source": [
    "for poly in polys:\n",
    "    ImageDraw.Draw(img).polygon(poly, outline=1, fill=1)"
   ]
  },
  {
   "cell_type": "code",
   "execution_count": null,
   "id": "61093bf0",
   "metadata": {},
   "outputs": [],
   "source": [
    "img"
   ]
  },
  {
   "cell_type": "code",
   "execution_count": 1,
   "id": "76beb06e",
   "metadata": {},
   "outputs": [],
   "source": [
    "import os\n",
    "import os.path as osp\n",
    "import config"
   ]
  },
  {
   "cell_type": "code",
   "execution_count": 2,
   "id": "5e7f8999",
   "metadata": {},
   "outputs": [],
   "source": [
    "deep_fashion_dir = config.DEEP_FASHION_DIR\n",
    "annos_dir = osp.join(deep_fashion_dir, 'Anno_coarse')\n",
    "bboxes_path = osp.join(annos_dir, 'list_bbox.txt')\n",
    "attributes_path = osp.join(annos_dir, 'list_attr_img.txt')"
   ]
  },
  {
   "cell_type": "code",
   "execution_count": 15,
   "id": "5c232b17",
   "metadata": {},
   "outputs": [],
   "source": [
    "with open(attributes_path, 'r') as f:\n",
    "    lines = f.readlines()[2:]"
   ]
  },
  {
   "cell_type": "markdown",
   "id": "7860bd0d",
   "metadata": {},
   "source": [
    "## Time for executing with only stripping and splitting:\n",
    "\n",
    "`CPU times: user 38.3 s, sys: 47.1 s, total: 1min 25s\n",
    "Wall time: 1min 30s`\n",
    "\n",
    "## Time by only storing the line content\n",
    "`CPU times: user 9.13 s, sys: 15.6 s, total: 24.8 s\n",
    "Wall time: 25 s`\n",
    "\n",
    "## Time w/o using `for` loop\n",
    "`atts.append(list(filter(lambda x: x != '', list(map(lambda line: line.strip().split(' ')[1:], lines[2:])) )))`\n",
    "\n",
    "`CPU times: user 43.1 s, sys: 1min 2s, total: 1min 45s\n",
    "Wall time: 1min 56s`"
   ]
  },
  {
   "cell_type": "code",
   "execution_count": 12,
   "id": "7807ac90",
   "metadata": {},
   "outputs": [
    {
     "name": "stdout",
     "output_type": "stream",
     "text": [
      "CPU times: user 43.1 s, sys: 1min 2s, total: 1min 45s\n",
      "Wall time: 1min 56s\n"
     ]
    }
   ],
   "source": [
    "%%time\n",
    "atts = []\n",
    "\n",
    "atts.append(list(filter(lambda x: x != '', list(map(lambda line: line.strip().split(' ')[1:], lines[2:])) )))\n",
    "# for line in lines[2:]:\n",
    "#     atts.append(line)\n",
    "#     atts.append(list(filter(lambda x: x != '', line.strip().split(' ')[1:])))\n",
    "#     atts.append(list(map(lambda x: int(x), list(filter(lambda x: x != '', line.strip().split(' ')[1:])))))"
   ]
  },
  {
   "cell_type": "code",
   "execution_count": 52,
   "id": "4ddda658",
   "metadata": {},
   "outputs": [],
   "source": [
    "lines = list(map(lambda x: x.strip(), lines[2:]))"
   ]
  },
  {
   "cell_type": "code",
   "execution_count": 72,
   "id": "fcc99280",
   "metadata": {},
   "outputs": [
    {
     "data": {
      "text/plain": [
       "24"
      ]
     },
     "execution_count": 72,
     "metadata": {},
     "output_type": "execute_result"
    }
   ],
   "source": [
    "len('                        ')"
   ]
  },
  {
   "cell_type": "code",
   "execution_count": 76,
   "id": "b80db578",
   "metadata": {},
   "outputs": [
    {
     "ename": "ValueError",
     "evalue": "invalid literal for int() with base 10: ''",
     "output_type": "error",
     "traceback": [
      "\u001b[0;31m---------------------------------------------------------------------------\u001b[0m",
      "\u001b[0;31mValueError\u001b[0m                                Traceback (most recent call last)",
      "File \u001b[0;32m<timed exec>:5\u001b[0m\n",
      "\u001b[0;31mValueError\u001b[0m: invalid literal for int() with base 10: ''"
     ]
    }
   ],
   "source": [
    "%%time\n",
    "bbox = []\n",
    "with open(bboxes_path, 'r') as f:\n",
    "    for idx, line in enumerate(f):\n",
    "        if idx > 1:\n",
    "            line_split = list(map(int, line.strip().split(' ')[24:]))\n",
    "            bbox.append(line)"
   ]
  },
  {
   "cell_type": "code",
   "execution_count": 64,
   "id": "10ad6d97",
   "metadata": {},
   "outputs": [
    {
     "data": {
      "text/plain": [
       "['072', '079', '232', '273']"
      ]
     },
     "execution_count": 64,
     "metadata": {},
     "output_type": "execute_result"
    }
   ],
   "source": [
    "bbox[0]"
   ]
  },
  {
   "cell_type": "code",
   "execution_count": 40,
   "id": "f3b40b87",
   "metadata": {},
   "outputs": [],
   "source": [
    "with open(bboxes_path, 'r') as f:\n",
    "    lines = f.readlines()[2:]"
   ]
  },
  {
   "cell_type": "code",
   "execution_count": null,
   "id": "52131780",
   "metadata": {},
   "outputs": [],
   "source": []
  },
  {
   "cell_type": "code",
   "execution_count": 33,
   "id": "b18da1e5",
   "metadata": {},
   "outputs": [
    {
     "name": "stdout",
     "output_type": "stream",
     "text": [
      "CPU times: user 15.3 s, sys: 48.3 s, total: 1min 3s\n",
      "Wall time: 1min 8s\n"
     ]
    }
   ],
   "source": [
    "%%time\n",
    "bbox = list( list(filter(lambda x: x != '' , list(map(lambda line: line.strip().split(' ')[1:], lines))) ) )"
   ]
  },
  {
   "cell_type": "code",
   "execution_count": 44,
   "id": "eeb40ee8",
   "metadata": {},
   "outputs": [
    {
     "data": {
      "text/plain": [
       "0"
      ]
     },
     "execution_count": 44,
     "metadata": {},
     "output_type": "execute_result"
    }
   ],
   "source": [
    "len(list(filter(lambda x: x == ' ', lines[0].split(' '))))"
   ]
  },
  {
   "cell_type": "code",
   "execution_count": 46,
   "id": "821e4617",
   "metadata": {
    "scrolled": true
   },
   "outputs": [
    {
     "data": {
      "text/plain": [
       "'img/Sheer_Pleated-Front_Blouse/img_00000001.jpg072079232273\\n'"
      ]
     },
     "execution_count": 46,
     "metadata": {},
     "output_type": "execute_result"
    }
   ],
   "source": [
    "lines[0].replace(' ', '')"
   ]
  },
  {
   "cell_type": "code",
   "execution_count": 103,
   "id": "528f93fc",
   "metadata": {},
   "outputs": [
    {
     "name": "stdout",
     "output_type": "stream",
     "text": [
      "CPU times: user 29.8 s, sys: 19.3 s, total: 49.1 s\n",
      "Wall time: 50.8 s\n"
     ]
    }
   ],
   "source": [
    "%%time\n",
    "atts = []\n",
    "\n",
    "with open(attributes_path, 'r') as f:\n",
    "    for idx, line in enumerate(f):\n",
    "        if idx > 1:\n",
    "            atts.append(line.strip().split(' ')[-1000:])"
   ]
  },
  {
   "cell_type": "code",
   "execution_count": 102,
   "id": "659bd24d",
   "metadata": {},
   "outputs": [
    {
     "data": {
      "text/plain": [
       "289222"
      ]
     },
     "execution_count": 102,
     "metadata": {},
     "output_type": "execute_result"
    }
   ],
   "source": [
    "len(atts)"
   ]
  },
  {
   "cell_type": "code",
   "execution_count": null,
   "id": "f4f960df",
   "metadata": {},
   "outputs": [],
   "source": []
  }
 ],
 "metadata": {
  "kernelspec": {
   "display_name": "Python 3 (ipykernel)",
   "language": "python",
   "name": "python3"
  },
  "language_info": {
   "codemirror_mode": {
    "name": "ipython",
    "version": 3
   },
   "file_extension": ".py",
   "mimetype": "text/x-python",
   "name": "python",
   "nbconvert_exporter": "python",
   "pygments_lexer": "ipython3",
   "version": "3.10.8"
  }
 },
 "nbformat": 4,
 "nbformat_minor": 5
}
