{
 "cells": [
  {
   "cell_type": "code",
   "execution_count": 1,
   "id": "a1adfb33",
   "metadata": {},
   "outputs": [],
   "source": [
    "import os\n",
    "import os.path as osp\n",
    "import numpy as np\n",
    "import wandb\n",
    "from pathlib import Path\n",
    "\n",
    "from PIL import Image, ImageDraw\n",
    "import json"
   ]
  },
  {
   "cell_type": "code",
   "execution_count": null,
   "id": "1532ee9c",
   "metadata": {},
   "outputs": [],
   "source": []
  },
  {
   "cell_type": "code",
   "execution_count": 2,
   "id": "4f04720f",
   "metadata": {},
   "outputs": [],
   "source": [
    "DEEP_FASHION_DIR = osp.join(osp.expanduser('~'), 'Documents', 'dev', 'DeepFashion')\n",
    "DEEP_FASHION_CLOTHING_ANNOS_DIR = osp.join(DEEP_FASHION_DIR, 'Anno_coarse')\n",
    "DEEP_FASHION_CLOTHING_IMAGES_DIR = osp.join(DEEP_FASHION_DIR, 'img')\n",
    "DEEP_FASHION_CLOTHING_CATEGORIES_PATH = osp.join(DEEP_FASHION_CLOTHING_ANNOS_DIR, 'list_category_cloth.txt')\n",
    "DEEP_FASHION_CLOTHING_ATTRIBUTES_PATH = osp.join(DEEP_FASHION_CLOTHING_ANNOS_DIR, 'list_attr_cloth.txt')\n",
    "DEEP_FASHION_CLOTHING_LIST_CAT_IMG_PATH = osp.join(DEEP_FASHION_CLOTHING_ANNOS_DIR, 'list_category_img.txt')\n",
    "DEEP_FASHION_CLOTHING_LIST_ATT_IMG_PATH = osp.join(DEEP_FASHION_CLOTHING_ANNOS_DIR, 'list_attr_img.txt')\n",
    "\n",
    "CLASS_LABELS = []\n",
    "with open(DEEP_FASHION_CLOTHING_LIST_CAT_IMG_PATH, 'r') as f:\n",
    "    for idx, line in enumerate(f):\n",
    "        if idx > 1:\n",
    "            CLASS_LABELS.append((int(line.split()[1]) -1))"
   ]
  },
  {
   "cell_type": "code",
   "execution_count": 3,
   "id": "17292485",
   "metadata": {},
   "outputs": [],
   "source": [
    "import numpy as np\n",
    "import matplotlib.pyplot as plt"
   ]
  },
  {
   "cell_type": "code",
   "execution_count": 4,
   "id": "b0cdf470",
   "metadata": {},
   "outputs": [],
   "source": [
    "labels = np.array(CLASS_LABELS)"
   ]
  },
  {
   "cell_type": "code",
   "execution_count": 5,
   "id": "154c4e5f",
   "metadata": {},
   "outputs": [],
   "source": [
    "labels_hist = np.histogram(labels)"
   ]
  },
  {
   "cell_type": "code",
   "execution_count": 9,
   "id": "e4bf997e",
   "metadata": {},
   "outputs": [
    {
     "data": {
      "text/plain": [
       "array([ 0,  1,  2,  3,  4,  5,  6,  7,  8,  9, 10, 11, 12, 13, 14, 15, 16,\n",
       "       17, 18, 19, 20, 21, 22, 23, 24, 25, 26, 27, 28, 29, 30, 31, 32, 33,\n",
       "       34, 35, 36, 38, 39, 40, 41, 42, 43, 45, 46, 47])"
      ]
     },
     "execution_count": 9,
     "metadata": {},
     "output_type": "execute_result"
    }
   ],
   "source": [
    "np.unique(labels)"
   ]
  },
  {
   "cell_type": "code",
   "execution_count": 10,
   "id": "f20f1c00",
   "metadata": {},
   "outputs": [
    {
     "data": {
      "text/plain": [
       "(array([1.6000e+02, 7.4950e+03, 2.4557e+04, 3.0900e+02, 3.3000e+02,\n",
       "        1.3311e+04, 3.2400e+02, 1.7000e+01, 7.1600e+02, 4.0480e+03,\n",
       "        1.0467e+04, 7.4800e+02, 6.7600e+02, 9.7000e+01, 7.9100e+02,\n",
       "        1.3123e+04, 0.0000e+00, 1.5429e+04, 3.6887e+04, 1.0078e+04,\n",
       "        1.4600e+02, 7.7000e+01, 5.2700e+02, 4.8600e+02, 1.6690e+03,\n",
       "        4.9000e+01, 7.0760e+03, 5.9400e+02, 4.5000e+01, 4.4160e+03,\n",
       "        5.0130e+03, 3.2000e+01, 1.9666e+04, 0.0000e+00, 1.4773e+04,\n",
       "        3.0480e+03, 1.1060e+03, 3.8600e+02, 5.4000e+01, 0.0000e+00,\n",
       "        2.1200e+03, 1.7000e+01, 7.2158e+04, 6.1530e+03, 1.2600e+02,\n",
       "        2.2940e+03, 0.0000e+00, 7.0000e+01, 1.5000e+02, 7.4080e+03]),\n",
       " array([ 0.  ,  0.94,  1.88,  2.82,  3.76,  4.7 ,  5.64,  6.58,  7.52,\n",
       "         8.46,  9.4 , 10.34, 11.28, 12.22, 13.16, 14.1 , 15.04, 15.98,\n",
       "        16.92, 17.86, 18.8 , 19.74, 20.68, 21.62, 22.56, 23.5 , 24.44,\n",
       "        25.38, 26.32, 27.26, 28.2 , 29.14, 30.08, 31.02, 31.96, 32.9 ,\n",
       "        33.84, 34.78, 35.72, 36.66, 37.6 , 38.54, 39.48, 40.42, 41.36,\n",
       "        42.3 , 43.24, 44.18, 45.12, 46.06, 47.  ]),\n",
       " <BarContainer object of 50 artists>)"
      ]
     },
     "execution_count": 10,
     "metadata": {},
     "output_type": "execute_result"
    },
    {
     "data": {
      "image/png": "[encoded data removed]",
      "text/plain": [
       "<Figure size 640x480 with 1 Axes>"
      ]
     },
     "metadata": {},
     "output_type": "display_data"
    }
   ],
   "source": [
    "plt.hist(labels, bins=50)"
   ]
  },
  {
   "cell_type": "code",
   "execution_count": null,
   "id": "717a8521",
   "metadata": {},
   "outputs": [],
   "source": [
    "WANDB_PROJECT = 'fashion-retrieval'\n",
    "ENTITY = None\n",
    "\n",
    "DEEP_FASHION_DIR = osp.join(osp.expanduser('~'), 'Documents', 'dev', 'DeepFashion')\n",
    "DEEP_FASHION_CLOTHING_ANNOS_DIR = osp.join(DEEP_FASHION_DIR, 'Anno_coarse')\n",
    "DEEP_FASHION_CLOTHING_IMAGES_DIR = osp.join(DEEP_FASHION_DIR, 'img')\n",
    "DEEP_FASHION_CLOTHING_CATEGORIES_PATH = osp.join(DEEP_FASHION_CLOTHING_ANNOS_DIR, 'list_category_cloth.txt')\n",
    "DEEP_FASHION_CLOTHING_ATTRIBUTES_PATH = osp.join(DEEP_FASHION_CLOTHING_ANNOS_DIR, 'list_attr_cloth.txt')\n",
    "DEEP_FASHION_CLOTHING_LIST_CAT_IMG_PATH = osp.join(DEEP_FASHION_CLOTHING_ANNOS_DIR, 'list_category_img.txt')\n",
    "DEEP_FASHION_CLOTHING_LIST_ATT_IMG_PATH = osp.join(DEEP_FASHION_CLOTHING_ANNOS_DIR, 'list_attr_img.txt')\n",
    "\n",
    "CLASS_LABELS = []\n",
    "ATTR_LABELS = []\n",
    "\n",
    "# 1. In category type, \"1\" represents upper-body clothes, \"2\" represents lower-body clothes, \"3\" represents full-body clothes;\n",
    "# 2. The order of category labels accords with the order of category names;\n",
    "# 3. In category labels, the number represents the category id in category names;\n",
    "# 4. For the clothing categories, \"Cape\", \"Nightdress\", \"Shirtdress\" and \"Sundress\" have been merged into \"Dress\";\n",
    "# 5. Category prediction is treated as a 1-of-K classification problem.\n",
    "\n",
    "CATEGORY_TYPES = {\n",
    "    1: 'upper-body',\n",
    "    2: 'lower-body',\n",
    "    3: 'full-body'\n",
    "}\n",
    "\n",
    "# 1. In attribute type, \"1\" represents texture-related attributes, \"2\" represents fabric-related attributes, \"3\" represents shape-related attributes, \"4\" represents part-related attributes, \"5\" represents style-related attributes;\n",
    "# 2. The order of attribute labels accords with the order of attribute names;\n",
    "# 3. In attribute labels, \"1\" represents positive while \"-1\" represents negative, '0' represents unknown;\n",
    "# 4. Attribute prediction is treated as a multi-label tagging problem.\n",
    "\n",
    "ATTRIBUTE_TYPES = {\n",
    "    1: 'texture',\n",
    "    2: 'fabric',\n",
    "    3: 'shape',\n",
    "    4: 'part',\n",
    "    5: 'style'\n",
    "}\n",
    "\n",
    "with open(DEEP_FASHION_CLOTHING_CATEGORIES_PATH, 'r') as f:\n",
    "    for idx, line in enumerate(f):\n",
    "        if idx > 1:\n",
    "            CLASS_LABELS.append(line.split()[0])\n",
    "            \n",
    "with open(DEEP_FASHION_CLOTHING_ATTRIBUTES_PATH, 'r') as f:\n",
    "    for idx, line in enumerate(f):\n",
    "        if idx > 1:\n",
    "            ATTR_LABELS.append(' '.join(l for l in line.split() if l.replace('-', '').isalpha()))\n",
    "            \n",
    "IDX_TO_CLASS = {idx + 1:c for idx, c in enumerate(CLASS_LABELS)}\n",
    "CLS_TO_IDX = {v: k for k, v in IDX_TO_CLASS.items()}\n",
    "\n",
    "DATA_DICT = dict()\n",
    "\n",
    "with open(DEEP_FASHION_CLOTHING_LIST_CAT_IMG_PATH, 'r') as f:\n",
    "    for idx, line in enumerate(f):\n",
    "        if idx > 1:\n",
    "            DATA_DICT[idx-2] = {\n",
    "                \"path\": line.split()[0],\n",
    "                \"cat_index\": int(line.split()[1]),\n",
    "                \"category\": IDX_TO_CLASS[int(line.split()[1])]\n",
    "            }\n",
    "\n",
    "with open(DEEP_FASHION_CLOTHING_LIST_ATT_IMG_PATH, 'r') as f:\n",
    "    for idx, line in enumerate(f):\n",
    "        if idx > 1:\n",
    "            DATA_DICT[idx-2]['attributes'] = [idx for idx, att in enumerate(line.split()[1:]) if int(att) > 0]  \n",
    "            \n",
    "            \n",
    "            "
   ]
  },
  {
   "cell_type": "code",
   "execution_count": null,
   "id": "664ca864",
   "metadata": {},
   "outputs": [],
   "source": [
    "IDX_TO_ATTR = {idx: val for idx, val in enumerate(ATTR_LABELS)}"
   ]
  },
  {
   "cell_type": "code",
   "execution_count": null,
   "id": "f60a92ab",
   "metadata": {},
   "outputs": [],
   "source": []
  },
  {
   "cell_type": "code",
   "execution_count": null,
   "id": "f74ec113",
   "metadata": {
    "scrolled": false
   },
   "outputs": [],
   "source": [
    "# Initiate a wandb run\n",
    "run = wandb.init(project=WANDB_PROJECT, entity=ENTITY, job_type='upload')"
   ]
  },
  {
   "cell_type": "code",
   "execution_count": null,
   "id": "a9c879da",
   "metadata": {},
   "outputs": [],
   "source": [
    "artifact = wandb.Artifact(name='deep-fashion', type='raw-data')"
   ]
  },
  {
   "cell_type": "code",
   "execution_count": null,
   "id": "e3012fae",
   "metadata": {},
   "outputs": [],
   "source": [
    "DEEP_FASHION_DIR"
   ]
  },
  {
   "cell_type": "code",
   "execution_count": null,
   "id": "e5cdd828",
   "metadata": {
    "scrolled": true
   },
   "outputs": [],
   "source": [
    "artifact.add_file(osp.join(DEEP_FASHION_DIR, 'README.txt'))\n",
    "# artifact.add_dir(DEEP_FASHION_CLOTHING_IMAGES_DIR, name='Images')\n",
    "# artifact.add_dir(DEEP_FASHION_CLOTHING_ANNOS_DIR, name='Annotations')"
   ]
  },
  {
   "cell_type": "code",
   "execution_count": null,
   "id": "7af16777",
   "metadata": {},
   "outputs": [],
   "source": [
    "run.log_artifact(artifact)"
   ]
  },
  {
   "cell_type": "code",
   "execution_count": null,
   "id": "36d4b8b7",
   "metadata": {},
   "outputs": [],
   "source": [
    "run.finish()"
   ]
  },
  {
   "cell_type": "code",
   "execution_count": null,
   "id": "205c1a23",
   "metadata": {
    "scrolled": false
   },
   "outputs": [],
   "source": [
    "run = wandb.init(project=WANDB_PROJECT, entity=ENTITY, job_type='upload')\n",
    "artifact = run.use_artifact('deep-fashion:latest',\n",
    "                            type='raw-data')\n",
    "artifact_dir = artifact.download()"
   ]
  },
  {
   "cell_type": "code",
   "execution_count": null,
   "id": "d4db2fd9",
   "metadata": {},
   "outputs": [],
   "source": [
    "import random\n",
    "idx = random.sample(range(0, len(DATA_DICT.keys())), 10000)"
   ]
  },
  {
   "cell_type": "code",
   "execution_count": null,
   "id": "4eb5c21f",
   "metadata": {},
   "outputs": [],
   "source": [
    "table = wandb.Table(columns=['Image Name', 'Image', 'Category', 'Attributes'])"
   ]
  },
  {
   "cell_type": "code",
   "execution_count": null,
   "id": "2dcb80c3",
   "metadata": {},
   "outputs": [],
   "source": [
    "for _i in idx:\n",
    "    data = DATA_DICT.get(_i)\n",
    "    _name = data['path'].split('/')[1]\n",
    "    _img = Image.open(osp.join(DEEP_FASHION_DIR, data['path']))\n",
    "    _cat = data['category']\n",
    "    _attrs = [IDX_TO_ATTR[attr] for attr in data['attributes']]\n",
    "    table.add_data(_name,\n",
    "                  wandb.Image(_img),\n",
    "                  _cat,\n",
    "                  _attrs)"
   ]
  },
  {
   "cell_type": "code",
   "execution_count": null,
   "id": "c46754b9",
   "metadata": {
    "scrolled": true
   },
   "outputs": [],
   "source": [
    "eda_artifact = wandb.Artifact('deep-fashion', type='raw-data')\n",
    "eda_artifact.add(table, name='EDA Table')"
   ]
  },
  {
   "cell_type": "code",
   "execution_count": null,
   "id": "c5a8724c",
   "metadata": {},
   "outputs": [],
   "source": [
    "run.log_artifact(eda_artifact)\n",
    "run.finish()"
   ]
  },
  {
   "cell_type": "code",
   "execution_count": null,
   "id": "601fc303",
   "metadata": {},
   "outputs": [],
   "source": [
    "# table = wandb.Table(columns=['Image Name', 'Image', 'Category', 'Attributes'])"
   ]
  },
  {
   "cell_type": "code",
   "execution_count": null,
   "id": "fff628fe",
   "metadata": {},
   "outputs": [],
   "source": [
    "# for key, val in DATA_DICT:\n",
    "#     img = Image.open(osp.join())\n",
    "#     table.add_data(val['path'].split('/')[1],\n",
    "#                   )"
   ]
  },
  {
   "cell_type": "code",
   "execution_count": null,
   "id": "8af86b10",
   "metadata": {
    "scrolled": true
   },
   "outputs": [],
   "source": [
    "def create_mask(img_shape, segmentation_map_list, category):\n",
    "    mask = np.zeros(img_shape[1]*img_shape[0], dtype=int)\n",
    "    return mask\n",
    "\n",
    "def get_polygon_regions(segm_mask):\n",
    "    return [[pair for pair in zip(region[::2], region[1::2])] for region in segm_mask]"
   ]
  },
  {
   "cell_type": "code",
   "execution_count": null,
   "id": "d4e42515",
   "metadata": {},
   "outputs": [],
   "source": [
    "DEEP_FASHION_TRAIN_DIR = os.path.join(DEEP_FASHION_DIR, 'train')\n",
    "DEEP_FASHION_VALIDATION_DIR = os.path.join(DEEP_FASHION_DIR, 'validation')\n",
    "DEEP_FASHION_TEST_DIR = os.path.join(DEEP_FASHION_DIR, 'test')"
   ]
  },
  {
   "cell_type": "code",
   "execution_count": null,
   "id": "977844c8",
   "metadata": {},
   "outputs": [],
   "source": [
    "train_annos = sorted(os.listdir(Path(DEEP_FASHION_TRAIN_DIR) / 'annos'))\n",
    "train_images = sorted(os.listdir(Path(DEEP_FASHION_TRAIN_DIR) / 'image'))"
   ]
  },
  {
   "cell_type": "code",
   "execution_count": null,
   "id": "b7dd1701",
   "metadata": {},
   "outputs": [],
   "source": [
    "train_annos_paths = list(map(lambda x: os.path.join(DEEP_FASHION_TRAIN_DIR, 'annos', x), train_annos))\n",
    "train_images_paths = list(map(lambda x: os.path.join(DEEP_FASHION_TRAIN_DIR, 'image', x), train_images))"
   ]
  },
  {
   "cell_type": "code",
   "execution_count": null,
   "id": "815bed95",
   "metadata": {
    "scrolled": true
   },
   "outputs": [],
   "source": [
    "with open(train_annos_paths[0], 'r') as f:\n",
    "    data = json.load(f)"
   ]
  },
  {
   "cell_type": "code",
   "execution_count": null,
   "id": "e4f6e927",
   "metadata": {},
   "outputs": [],
   "source": [
    "# These points define a polygon\n",
    "segm = data['item1']['segmentation']"
   ]
  },
  {
   "cell_type": "code",
   "execution_count": null,
   "id": "ece24251",
   "metadata": {},
   "outputs": [],
   "source": [
    "x, y = 257, 35\n",
    "nn[y*w + x]"
   ]
  },
  {
   "cell_type": "code",
   "execution_count": null,
   "id": "1f61fba3",
   "metadata": {},
   "outputs": [],
   "source": [
    "nn.reshape(h, w)[35, 257]"
   ]
  },
  {
   "cell_type": "code",
   "execution_count": null,
   "id": "d7cc912e",
   "metadata": {},
   "outputs": [],
   "source": [
    "img = Image.open(train_images_paths[0]).convert('RGB')"
   ]
  },
  {
   "cell_type": "code",
   "execution_count": null,
   "id": "f224425a",
   "metadata": {},
   "outputs": [],
   "source": [
    "polys = get_polygon_regions(segm)"
   ]
  },
  {
   "cell_type": "code",
   "execution_count": null,
   "id": "e7da994d",
   "metadata": {},
   "outputs": [],
   "source": [
    "for poly in polys:\n",
    "    ImageDraw.Draw(img).polygon(poly, outline=1, fill=1)"
   ]
  },
  {
   "cell_type": "code",
   "execution_count": null,
   "id": "61093bf0",
   "metadata": {},
   "outputs": [],
   "source": [
    "img"
   ]
  },
  {
   "cell_type": "code",
   "execution_count": 1,
   "id": "76beb06e",
   "metadata": {},
   "outputs": [],
   "source": [
    "import os\n",
    "import os.path as osp\n",
    "import config"
   ]
  },
  {
   "cell_type": "code",
   "execution_count": 2,
   "id": "5e7f8999",
   "metadata": {},
   "outputs": [],
   "source": [
    "deep_fashion_dir = config.DEEP_FASHION_DIR\n",
    "annos_dir = osp.join(deep_fashion_dir, 'Anno_coarse')\n",
    "bboxes_path = osp.join(annos_dir, 'list_bbox.txt')\n",
    "attributes_path = osp.join(annos_dir, 'list_attr_img.txt')"
   ]
  },
  {
   "cell_type": "code",
   "execution_count": 15,
   "id": "5c232b17",
   "metadata": {},
   "outputs": [],
   "source": [
    "with open(attributes_path, 'r') as f:\n",
    "    lines = f.readlines()[2:]"
   ]
  },
  {
   "cell_type": "markdown",
   "id": "7860bd0d",
   "metadata": {},
   "source": [
    "## Time for executing with only stripping and splitting:\n",
    "\n",
    "`CPU times: user 38.3 s, sys: 47.1 s, total: 1min 25s\n",
    "Wall time: 1min 30s`\n",
    "\n",
    "## Time by only storing the line content\n",
    "`CPU times: user 9.13 s, sys: 15.6 s, total: 24.8 s\n",
    "Wall time: 25 s`\n",
    "\n",
    "## Time w/o using `for` loop\n",
    "`atts.append(list(filter(lambda x: x != '', list(map(lambda line: line.strip().split(' ')[1:], lines[2:])) )))`\n",
    "\n",
    "`CPU times: user 43.1 s, sys: 1min 2s, total: 1min 45s\n",
    "Wall time: 1min 56s`"
   ]
  },
  {
   "cell_type": "code",
   "execution_count": 12,
   "id": "7807ac90",
   "metadata": {},
   "outputs": [
    {
     "name": "stdout",
     "output_type": "stream",
     "text": [
      "CPU times: user 43.1 s, sys: 1min 2s, total: 1min 45s\n",
      "Wall time: 1min 56s\n"
     ]
    }
   ],
   "source": [
    "%%time\n",
    "atts = []\n",
    "\n",
    "atts.append(list(filter(lambda x: x != '', list(map(lambda line: line.strip().split(' ')[1:], lines[2:])) )))\n",
    "# for line in lines[2:]:\n",
    "#     atts.append(line)\n",
    "#     atts.append(list(filter(lambda x: x != '', line.strip().split(' ')[1:])))\n",
    "#     atts.append(list(map(lambda x: int(x), list(filter(lambda x: x != '', line.strip().split(' ')[1:])))))"
   ]
  },
  {
   "cell_type": "code",
   "execution_count": 52,
   "id": "4ddda658",
   "metadata": {},
   "outputs": [],
   "source": [
    "lines = list(map(lambda x: x.strip(), lines[2:]))"
   ]
  },
  {
   "cell_type": "code",
   "execution_count": 72,
   "id": "fcc99280",
   "metadata": {},
   "outputs": [
    {
     "data": {
      "text/plain": [
       "24"
      ]
     },
     "execution_count": 72,
     "metadata": {},
     "output_type": "execute_result"
    }
   ],
   "source": [
    "len('                        ')"
   ]
  },
  {
   "cell_type": "code",
   "execution_count": 76,
   "id": "b80db578",
   "metadata": {},
   "outputs": [
    {
     "ename": "ValueError",
     "evalue": "invalid literal for int() with base 10: ''",
     "output_type": "error",
     "traceback": [
      "\u001b[0;31m---------------------------------------------------------------------------\u001b[0m",
      "\u001b[0;31mValueError\u001b[0m                                Traceback (most recent call last)",
      "File \u001b[0;32m<timed exec>:5\u001b[0m\n",
      "\u001b[0;31mValueError\u001b[0m: invalid literal for int() with base 10: ''"
     ]
    }
   ],
   "source": [
    "%%time\n",
    "bbox = []\n",
    "with open(bboxes_path, 'r') as f:\n",
    "    for idx, line in enumerate(f):\n",
    "        if idx > 1:\n",
    "            line_split = list(map(int, line.strip().split(' ')[24:]))\n",
    "            bbox.append(line)"
   ]
  },
  {
   "cell_type": "code",
   "execution_count": 64,
   "id": "10ad6d97",
   "metadata": {},
   "outputs": [
    {
     "data": {
      "text/plain": [
       "['072', '079', '232', '273']"
      ]
     },
     "execution_count": 64,
     "metadata": {},
     "output_type": "execute_result"
    }
   ],
   "source": [
    "bbox[0]"
   ]
  },
  {
   "cell_type": "code",
   "execution_count": 40,
   "id": "f3b40b87",
   "metadata": {},
   "outputs": [],
   "source": [
    "with open(bboxes_path, 'r') as f:\n",
    "    lines = f.readlines()[2:]"
   ]
  },
  {
   "cell_type": "code",
   "execution_count": null,
   "id": "52131780",
   "metadata": {},
   "outputs": [],
   "source": []
  },
  {
   "cell_type": "code",
   "execution_count": 33,
   "id": "b18da1e5",
   "metadata": {},
   "outputs": [
    {
     "name": "stdout",
     "output_type": "stream",
     "text": [
      "CPU times: user 15.3 s, sys: 48.3 s, total: 1min 3s\n",
      "Wall time: 1min 8s\n"
     ]
    }
   ],
   "source": [
    "%%time\n",
    "bbox = list( list(filter(lambda x: x != '' , list(map(lambda line: line.strip().split(' ')[1:], lines))) ) )"
   ]
  },
  {
   "cell_type": "code",
   "execution_count": 44,
   "id": "eeb40ee8",
   "metadata": {},
   "outputs": [
    {
     "data": {
      "text/plain": [
       "0"
      ]
     },
     "execution_count": 44,
     "metadata": {},
     "output_type": "execute_result"
    }
   ],
   "source": [
    "len(list(filter(lambda x: x == ' ', lines[0].split(' '))))"
   ]
  },
  {
   "cell_type": "code",
   "execution_count": 46,
   "id": "821e4617",
   "metadata": {
    "scrolled": true
   },
   "outputs": [
    {
     "data": {
      "text/plain": [
       "'img/Sheer_Pleated-Front_Blouse/img_00000001.jpg072079232273\\n'"
      ]
     },
     "execution_count": 46,
     "metadata": {},
     "output_type": "execute_result"
    }
   ],
   "source": [
    "lines[0].replace(' ', '')"
   ]
  },
  {
   "cell_type": "code",
   "execution_count": 103,
   "id": "528f93fc",
   "metadata": {},
   "outputs": [
    {
     "name": "stdout",
     "output_type": "stream",
     "text": [
      "CPU times: user 29.8 s, sys: 19.3 s, total: 49.1 s\n",
      "Wall time: 50.8 s\n"
     ]
    }
   ],
   "source": [
    "%%time\n",
    "atts = []\n",
    "\n",
    "with open(attributes_path, 'r') as f:\n",
    "    for idx, line in enumerate(f):\n",
    "        if idx > 1:\n",
    "            atts.append(line.strip().split(' ')[-1000:])"
   ]
  },
  {
   "cell_type": "code",
   "execution_count": 102,
   "id": "659bd24d",
   "metadata": {},
   "outputs": [
    {
     "data": {
      "text/plain": [
       "289222"
      ]
     },
     "execution_count": 102,
     "metadata": {},
     "output_type": "execute_result"
    }
   ],
   "source": [
    "len(atts)"
   ]
  },
  {
   "cell_type": "code",
   "execution_count": 2,
   "id": "f4f960df",
   "metadata": {
    "scrolled": true
   },
   "outputs": [
    {
     "name": "stderr",
     "output_type": "stream",
     "text": [
      "Downloading: \"https://download.pytorch.org/models/fasterrcnn_resnet50_fpn_v2_coco-dd69338a.pth\" to /home/kaseris/.cache/torch/hub/checkpoints/fasterrcnn_resnet50_fpn_v2_coco-dd69338a.pth\n",
      "14.0%IOPub message rate exceeded.\n",
      "The notebook server will temporarily stop sending output\n",
      "to the client in order to avoid crashing it.\n",
      "To change this limit, set the config variable\n",
      "`--NotebookApp.iopub_msg_rate_limit`.\n",
      "\n",
      "Current values:\n",
      "NotebookApp.iopub_msg_rate_limit=1000.0 (msgs/sec)\n",
      "NotebookApp.rate_limit_window=3.0 (secs)\n",
      "\n",
      "51.6%IOPub message rate exceeded.\n",
      "The notebook server will temporarily stop sending output\n",
      "to the client in order to avoid crashing it.\n",
      "To change this limit, set the config variable\n",
      "`--NotebookApp.iopub_msg_rate_limit`.\n",
      "\n",
      "Current values:\n",
      "NotebookApp.iopub_msg_rate_limit=1000.0 (msgs/sec)\n",
      "NotebookApp.rate_limit_window=3.0 (secs)\n",
      "\n",
      "100.0%\n",
      "/home/kaseris/Documents/envs/wandb-fashion-retr/lib/python3.10/site-packages/torchvision/utils.py:232: UserWarning: Argument 'font_size' will be ignored since 'font' is not set.\n",
      "  warnings.warn(\"Argument 'font_size' will be ignored since 'font' is not set.\")\n"
     ]
    }
   ],
   "source": [
    "from torchvision.io.image import read_image\n",
    "from torchvision.models.detection import fasterrcnn_resnet50_fpn_v2, FasterRCNN_ResNet50_FPN_V2_Weights\n",
    "from torchvision.utils import draw_bounding_boxes\n",
    "from torchvision.transforms.functional import to_pil_image\n",
    "\n",
    "img = read_image(\"/home/kaseris/Documents/fir/11.jpg\")\n",
    "\n",
    "# Step 1: Initialize model with the best available weights\n",
    "weights = FasterRCNN_ResNet50_FPN_V2_Weights.DEFAULT\n",
    "model = fasterrcnn_resnet50_fpn_v2(weights=weights, box_score_thresh=0.9)\n",
    "model.eval()\n",
    "\n",
    "# Step 2: Initialize the inference transforms\n",
    "preprocess = weights.transforms()\n",
    "\n",
    "# Step 3: Apply inference preprocessing transforms\n",
    "batch = [preprocess(img)]\n",
    "\n",
    "# Step 4: Use the model and visualize the prediction\n",
    "prediction = model(batch)[0]\n",
    "labels = [weights.meta[\"categories\"][i] for i in prediction[\"labels\"]]\n",
    "box = draw_bounding_boxes(img, boxes=prediction[\"boxes\"],\n",
    "                          labels=labels,\n",
    "                          colors=\"red\",\n",
    "                          width=4, font_size=30)\n",
    "im = to_pil_image(box.detach())\n",
    "im.show()"
   ]
  },
  {
   "cell_type": "code",
   "execution_count": 4,
   "id": "bd692318",
   "metadata": {},
   "outputs": [
    {
     "data": {
      "text/plain": [
       "{'boxes': tensor([[   9.7663,   54.3057,  825.1075, 1479.4414],\n",
       "         [  86.8136,    0.0000,  834.8762,  835.5492]],\n",
       "        grad_fn=<StackBackward0>),\n",
       " 'labels': tensor([1, 1]),\n",
       " 'scores': tensor([0.9989, 0.9026], grad_fn=<IndexBackward0>)}"
      ]
     },
     "execution_count": 4,
     "metadata": {},
     "output_type": "execute_result"
    }
   ],
   "source": [
    "prediction"
   ]
  },
  {
   "cell_type": "code",
   "execution_count": 3,
   "id": "1e0bdc23",
   "metadata": {
    "scrolled": true
   },
   "outputs": [
    {
     "data": {
      "text/plain": [
       "FasterRCNN(\n",
       "  (transform): GeneralizedRCNNTransform(\n",
       "      Normalize(mean=[0.485, 0.456, 0.406], std=[0.229, 0.224, 0.225])\n",
       "      Resize(min_size=(800,), max_size=1333, mode='bilinear')\n",
       "  )\n",
       "  (backbone): BackboneWithFPN(\n",
       "    (body): IntermediateLayerGetter(\n",
       "      (conv1): Conv2d(3, 64, kernel_size=(7, 7), stride=(2, 2), padding=(3, 3), bias=False)\n",
       "      (bn1): BatchNorm2d(64, eps=1e-05, momentum=0.1, affine=True, track_running_stats=True)\n",
       "      (relu): ReLU(inplace=True)\n",
       "      (maxpool): MaxPool2d(kernel_size=3, stride=2, padding=1, dilation=1, ceil_mode=False)\n",
       "      (layer1): Sequential(\n",
       "        (0): Bottleneck(\n",
       "          (conv1): Conv2d(64, 64, kernel_size=(1, 1), stride=(1, 1), bias=False)\n",
       "          (bn1): BatchNorm2d(64, eps=1e-05, momentum=0.1, affine=True, track_running_stats=True)\n",
       "          (conv2): Conv2d(64, 64, kernel_size=(3, 3), stride=(1, 1), padding=(1, 1), bias=False)\n",
       "          (bn2): BatchNorm2d(64, eps=1e-05, momentum=0.1, affine=True, track_running_stats=True)\n",
       "          (conv3): Conv2d(64, 256, kernel_size=(1, 1), stride=(1, 1), bias=False)\n",
       "          (bn3): BatchNorm2d(256, eps=1e-05, momentum=0.1, affine=True, track_running_stats=True)\n",
       "          (relu): ReLU(inplace=True)\n",
       "          (downsample): Sequential(\n",
       "            (0): Conv2d(64, 256, kernel_size=(1, 1), stride=(1, 1), bias=False)\n",
       "            (1): BatchNorm2d(256, eps=1e-05, momentum=0.1, affine=True, track_running_stats=True)\n",
       "          )\n",
       "        )\n",
       "        (1): Bottleneck(\n",
       "          (conv1): Conv2d(256, 64, kernel_size=(1, 1), stride=(1, 1), bias=False)\n",
       "          (bn1): BatchNorm2d(64, eps=1e-05, momentum=0.1, affine=True, track_running_stats=True)\n",
       "          (conv2): Conv2d(64, 64, kernel_size=(3, 3), stride=(1, 1), padding=(1, 1), bias=False)\n",
       "          (bn2): BatchNorm2d(64, eps=1e-05, momentum=0.1, affine=True, track_running_stats=True)\n",
       "          (conv3): Conv2d(64, 256, kernel_size=(1, 1), stride=(1, 1), bias=False)\n",
       "          (bn3): BatchNorm2d(256, eps=1e-05, momentum=0.1, affine=True, track_running_stats=True)\n",
       "          (relu): ReLU(inplace=True)\n",
       "        )\n",
       "        (2): Bottleneck(\n",
       "          (conv1): Conv2d(256, 64, kernel_size=(1, 1), stride=(1, 1), bias=False)\n",
       "          (bn1): BatchNorm2d(64, eps=1e-05, momentum=0.1, affine=True, track_running_stats=True)\n",
       "          (conv2): Conv2d(64, 64, kernel_size=(3, 3), stride=(1, 1), padding=(1, 1), bias=False)\n",
       "          (bn2): BatchNorm2d(64, eps=1e-05, momentum=0.1, affine=True, track_running_stats=True)\n",
       "          (conv3): Conv2d(64, 256, kernel_size=(1, 1), stride=(1, 1), bias=False)\n",
       "          (bn3): BatchNorm2d(256, eps=1e-05, momentum=0.1, affine=True, track_running_stats=True)\n",
       "          (relu): ReLU(inplace=True)\n",
       "        )\n",
       "      )\n",
       "      (layer2): Sequential(\n",
       "        (0): Bottleneck(\n",
       "          (conv1): Conv2d(256, 128, kernel_size=(1, 1), stride=(1, 1), bias=False)\n",
       "          (bn1): BatchNorm2d(128, eps=1e-05, momentum=0.1, affine=True, track_running_stats=True)\n",
       "          (conv2): Conv2d(128, 128, kernel_size=(3, 3), stride=(2, 2), padding=(1, 1), bias=False)\n",
       "          (bn2): BatchNorm2d(128, eps=1e-05, momentum=0.1, affine=True, track_running_stats=True)\n",
       "          (conv3): Conv2d(128, 512, kernel_size=(1, 1), stride=(1, 1), bias=False)\n",
       "          (bn3): BatchNorm2d(512, eps=1e-05, momentum=0.1, affine=True, track_running_stats=True)\n",
       "          (relu): ReLU(inplace=True)\n",
       "          (downsample): Sequential(\n",
       "            (0): Conv2d(256, 512, kernel_size=(1, 1), stride=(2, 2), bias=False)\n",
       "            (1): BatchNorm2d(512, eps=1e-05, momentum=0.1, affine=True, track_running_stats=True)\n",
       "          )\n",
       "        )\n",
       "        (1): Bottleneck(\n",
       "          (conv1): Conv2d(512, 128, kernel_size=(1, 1), stride=(1, 1), bias=False)\n",
       "          (bn1): BatchNorm2d(128, eps=1e-05, momentum=0.1, affine=True, track_running_stats=True)\n",
       "          (conv2): Conv2d(128, 128, kernel_size=(3, 3), stride=(1, 1), padding=(1, 1), bias=False)\n",
       "          (bn2): BatchNorm2d(128, eps=1e-05, momentum=0.1, affine=True, track_running_stats=True)\n",
       "          (conv3): Conv2d(128, 512, kernel_size=(1, 1), stride=(1, 1), bias=False)\n",
       "          (bn3): BatchNorm2d(512, eps=1e-05, momentum=0.1, affine=True, track_running_stats=True)\n",
       "          (relu): ReLU(inplace=True)\n",
       "        )\n",
       "        (2): Bottleneck(\n",
       "          (conv1): Conv2d(512, 128, kernel_size=(1, 1), stride=(1, 1), bias=False)\n",
       "          (bn1): BatchNorm2d(128, eps=1e-05, momentum=0.1, affine=True, track_running_stats=True)\n",
       "          (conv2): Conv2d(128, 128, kernel_size=(3, 3), stride=(1, 1), padding=(1, 1), bias=False)\n",
       "          (bn2): BatchNorm2d(128, eps=1e-05, momentum=0.1, affine=True, track_running_stats=True)\n",
       "          (conv3): Conv2d(128, 512, kernel_size=(1, 1), stride=(1, 1), bias=False)\n",
       "          (bn3): BatchNorm2d(512, eps=1e-05, momentum=0.1, affine=True, track_running_stats=True)\n",
       "          (relu): ReLU(inplace=True)\n",
       "        )\n",
       "        (3): Bottleneck(\n",
       "          (conv1): Conv2d(512, 128, kernel_size=(1, 1), stride=(1, 1), bias=False)\n",
       "          (bn1): BatchNorm2d(128, eps=1e-05, momentum=0.1, affine=True, track_running_stats=True)\n",
       "          (conv2): Conv2d(128, 128, kernel_size=(3, 3), stride=(1, 1), padding=(1, 1), bias=False)\n",
       "          (bn2): BatchNorm2d(128, eps=1e-05, momentum=0.1, affine=True, track_running_stats=True)\n",
       "          (conv3): Conv2d(128, 512, kernel_size=(1, 1), stride=(1, 1), bias=False)\n",
       "          (bn3): BatchNorm2d(512, eps=1e-05, momentum=0.1, affine=True, track_running_stats=True)\n",
       "          (relu): ReLU(inplace=True)\n",
       "        )\n",
       "      )\n",
       "      (layer3): Sequential(\n",
       "        (0): Bottleneck(\n",
       "          (conv1): Conv2d(512, 256, kernel_size=(1, 1), stride=(1, 1), bias=False)\n",
       "          (bn1): BatchNorm2d(256, eps=1e-05, momentum=0.1, affine=True, track_running_stats=True)\n",
       "          (conv2): Conv2d(256, 256, kernel_size=(3, 3), stride=(2, 2), padding=(1, 1), bias=False)\n",
       "          (bn2): BatchNorm2d(256, eps=1e-05, momentum=0.1, affine=True, track_running_stats=True)\n",
       "          (conv3): Conv2d(256, 1024, kernel_size=(1, 1), stride=(1, 1), bias=False)\n",
       "          (bn3): BatchNorm2d(1024, eps=1e-05, momentum=0.1, affine=True, track_running_stats=True)\n",
       "          (relu): ReLU(inplace=True)\n",
       "          (downsample): Sequential(\n",
       "            (0): Conv2d(512, 1024, kernel_size=(1, 1), stride=(2, 2), bias=False)\n",
       "            (1): BatchNorm2d(1024, eps=1e-05, momentum=0.1, affine=True, track_running_stats=True)\n",
       "          )\n",
       "        )\n",
       "        (1): Bottleneck(\n",
       "          (conv1): Conv2d(1024, 256, kernel_size=(1, 1), stride=(1, 1), bias=False)\n",
       "          (bn1): BatchNorm2d(256, eps=1e-05, momentum=0.1, affine=True, track_running_stats=True)\n",
       "          (conv2): Conv2d(256, 256, kernel_size=(3, 3), stride=(1, 1), padding=(1, 1), bias=False)\n",
       "          (bn2): BatchNorm2d(256, eps=1e-05, momentum=0.1, affine=True, track_running_stats=True)\n",
       "          (conv3): Conv2d(256, 1024, kernel_size=(1, 1), stride=(1, 1), bias=False)\n",
       "          (bn3): BatchNorm2d(1024, eps=1e-05, momentum=0.1, affine=True, track_running_stats=True)\n",
       "          (relu): ReLU(inplace=True)\n",
       "        )\n",
       "        (2): Bottleneck(\n",
       "          (conv1): Conv2d(1024, 256, kernel_size=(1, 1), stride=(1, 1), bias=False)\n",
       "          (bn1): BatchNorm2d(256, eps=1e-05, momentum=0.1, affine=True, track_running_stats=True)\n",
       "          (conv2): Conv2d(256, 256, kernel_size=(3, 3), stride=(1, 1), padding=(1, 1), bias=False)\n",
       "          (bn2): BatchNorm2d(256, eps=1e-05, momentum=0.1, affine=True, track_running_stats=True)\n",
       "          (conv3): Conv2d(256, 1024, kernel_size=(1, 1), stride=(1, 1), bias=False)\n",
       "          (bn3): BatchNorm2d(1024, eps=1e-05, momentum=0.1, affine=True, track_running_stats=True)\n",
       "          (relu): ReLU(inplace=True)\n",
       "        )\n",
       "        (3): Bottleneck(\n",
       "          (conv1): Conv2d(1024, 256, kernel_size=(1, 1), stride=(1, 1), bias=False)\n",
       "          (bn1): BatchNorm2d(256, eps=1e-05, momentum=0.1, affine=True, track_running_stats=True)\n",
       "          (conv2): Conv2d(256, 256, kernel_size=(3, 3), stride=(1, 1), padding=(1, 1), bias=False)\n",
       "          (bn2): BatchNorm2d(256, eps=1e-05, momentum=0.1, affine=True, track_running_stats=True)\n",
       "          (conv3): Conv2d(256, 1024, kernel_size=(1, 1), stride=(1, 1), bias=False)\n",
       "          (bn3): BatchNorm2d(1024, eps=1e-05, momentum=0.1, affine=True, track_running_stats=True)\n",
       "          (relu): ReLU(inplace=True)\n",
       "        )\n",
       "        (4): Bottleneck(\n",
       "          (conv1): Conv2d(1024, 256, kernel_size=(1, 1), stride=(1, 1), bias=False)\n",
       "          (bn1): BatchNorm2d(256, eps=1e-05, momentum=0.1, affine=True, track_running_stats=True)\n",
       "          (conv2): Conv2d(256, 256, kernel_size=(3, 3), stride=(1, 1), padding=(1, 1), bias=False)\n",
       "          (bn2): BatchNorm2d(256, eps=1e-05, momentum=0.1, affine=True, track_running_stats=True)\n",
       "          (conv3): Conv2d(256, 1024, kernel_size=(1, 1), stride=(1, 1), bias=False)\n",
       "          (bn3): BatchNorm2d(1024, eps=1e-05, momentum=0.1, affine=True, track_running_stats=True)\n",
       "          (relu): ReLU(inplace=True)\n",
       "        )\n",
       "        (5): Bottleneck(\n",
       "          (conv1): Conv2d(1024, 256, kernel_size=(1, 1), stride=(1, 1), bias=False)\n",
       "          (bn1): BatchNorm2d(256, eps=1e-05, momentum=0.1, affine=True, track_running_stats=True)\n",
       "          (conv2): Conv2d(256, 256, kernel_size=(3, 3), stride=(1, 1), padding=(1, 1), bias=False)\n",
       "          (bn2): BatchNorm2d(256, eps=1e-05, momentum=0.1, affine=True, track_running_stats=True)\n",
       "          (conv3): Conv2d(256, 1024, kernel_size=(1, 1), stride=(1, 1), bias=False)\n",
       "          (bn3): BatchNorm2d(1024, eps=1e-05, momentum=0.1, affine=True, track_running_stats=True)\n",
       "          (relu): ReLU(inplace=True)\n",
       "        )\n",
       "      )\n",
       "      (layer4): Sequential(\n",
       "        (0): Bottleneck(\n",
       "          (conv1): Conv2d(1024, 512, kernel_size=(1, 1), stride=(1, 1), bias=False)\n",
       "          (bn1): BatchNorm2d(512, eps=1e-05, momentum=0.1, affine=True, track_running_stats=True)\n",
       "          (conv2): Conv2d(512, 512, kernel_size=(3, 3), stride=(2, 2), padding=(1, 1), bias=False)\n",
       "          (bn2): BatchNorm2d(512, eps=1e-05, momentum=0.1, affine=True, track_running_stats=True)\n",
       "          (conv3): Conv2d(512, 2048, kernel_size=(1, 1), stride=(1, 1), bias=False)\n",
       "          (bn3): BatchNorm2d(2048, eps=1e-05, momentum=0.1, affine=True, track_running_stats=True)\n",
       "          (relu): ReLU(inplace=True)\n",
       "          (downsample): Sequential(\n",
       "            (0): Conv2d(1024, 2048, kernel_size=(1, 1), stride=(2, 2), bias=False)\n",
       "            (1): BatchNorm2d(2048, eps=1e-05, momentum=0.1, affine=True, track_running_stats=True)\n",
       "          )\n",
       "        )\n",
       "        (1): Bottleneck(\n",
       "          (conv1): Conv2d(2048, 512, kernel_size=(1, 1), stride=(1, 1), bias=False)\n",
       "          (bn1): BatchNorm2d(512, eps=1e-05, momentum=0.1, affine=True, track_running_stats=True)\n",
       "          (conv2): Conv2d(512, 512, kernel_size=(3, 3), stride=(1, 1), padding=(1, 1), bias=False)\n",
       "          (bn2): BatchNorm2d(512, eps=1e-05, momentum=0.1, affine=True, track_running_stats=True)\n",
       "          (conv3): Conv2d(512, 2048, kernel_size=(1, 1), stride=(1, 1), bias=False)\n",
       "          (bn3): BatchNorm2d(2048, eps=1e-05, momentum=0.1, affine=True, track_running_stats=True)\n",
       "          (relu): ReLU(inplace=True)\n",
       "        )\n",
       "        (2): Bottleneck(\n",
       "          (conv1): Conv2d(2048, 512, kernel_size=(1, 1), stride=(1, 1), bias=False)\n",
       "          (bn1): BatchNorm2d(512, eps=1e-05, momentum=0.1, affine=True, track_running_stats=True)\n",
       "          (conv2): Conv2d(512, 512, kernel_size=(3, 3), stride=(1, 1), padding=(1, 1), bias=False)\n",
       "          (bn2): BatchNorm2d(512, eps=1e-05, momentum=0.1, affine=True, track_running_stats=True)\n",
       "          (conv3): Conv2d(512, 2048, kernel_size=(1, 1), stride=(1, 1), bias=False)\n",
       "          (bn3): BatchNorm2d(2048, eps=1e-05, momentum=0.1, affine=True, track_running_stats=True)\n",
       "          (relu): ReLU(inplace=True)\n",
       "        )\n",
       "      )\n",
       "    )\n",
       "    (fpn): FeaturePyramidNetwork(\n",
       "      (inner_blocks): ModuleList(\n",
       "        (0): Conv2dNormActivation(\n",
       "          (0): Conv2d(256, 256, kernel_size=(1, 1), stride=(1, 1), bias=False)\n",
       "          (1): BatchNorm2d(256, eps=1e-05, momentum=0.1, affine=True, track_running_stats=True)\n",
       "        )\n",
       "        (1): Conv2dNormActivation(\n",
       "          (0): Conv2d(512, 256, kernel_size=(1, 1), stride=(1, 1), bias=False)\n",
       "          (1): BatchNorm2d(256, eps=1e-05, momentum=0.1, affine=True, track_running_stats=True)\n",
       "        )\n",
       "        (2): Conv2dNormActivation(\n",
       "          (0): Conv2d(1024, 256, kernel_size=(1, 1), stride=(1, 1), bias=False)\n",
       "          (1): BatchNorm2d(256, eps=1e-05, momentum=0.1, affine=True, track_running_stats=True)\n",
       "        )\n",
       "        (3): Conv2dNormActivation(\n",
       "          (0): Conv2d(2048, 256, kernel_size=(1, 1), stride=(1, 1), bias=False)\n",
       "          (1): BatchNorm2d(256, eps=1e-05, momentum=0.1, affine=True, track_running_stats=True)\n",
       "        )\n",
       "      )\n",
       "      (layer_blocks): ModuleList(\n",
       "        (0-3): 4 x Conv2dNormActivation(\n",
       "          (0): Conv2d(256, 256, kernel_size=(3, 3), stride=(1, 1), padding=(1, 1), bias=False)\n",
       "          (1): BatchNorm2d(256, eps=1e-05, momentum=0.1, affine=True, track_running_stats=True)\n",
       "        )\n",
       "      )\n",
       "      (extra_blocks): LastLevelMaxPool()\n",
       "    )\n",
       "  )\n",
       "  (rpn): RegionProposalNetwork(\n",
       "    (anchor_generator): AnchorGenerator()\n",
       "    (head): RPNHead(\n",
       "      (conv): Sequential(\n",
       "        (0): Conv2dNormActivation(\n",
       "          (0): Conv2d(256, 256, kernel_size=(3, 3), stride=(1, 1), padding=(1, 1))\n",
       "          (1): ReLU(inplace=True)\n",
       "        )\n",
       "        (1): Conv2dNormActivation(\n",
       "          (0): Conv2d(256, 256, kernel_size=(3, 3), stride=(1, 1), padding=(1, 1))\n",
       "          (1): ReLU(inplace=True)\n",
       "        )\n",
       "      )\n",
       "      (cls_logits): Conv2d(256, 3, kernel_size=(1, 1), stride=(1, 1))\n",
       "      (bbox_pred): Conv2d(256, 12, kernel_size=(1, 1), stride=(1, 1))\n",
       "    )\n",
       "  )\n",
       "  (roi_heads): RoIHeads(\n",
       "    (box_roi_pool): MultiScaleRoIAlign(featmap_names=['0', '1', '2', '3'], output_size=(7, 7), sampling_ratio=2)\n",
       "    (box_head): FastRCNNConvFCHead(\n",
       "      (0): Conv2dNormActivation(\n",
       "        (0): Conv2d(256, 256, kernel_size=(3, 3), stride=(1, 1), padding=(1, 1), bias=False)\n",
       "        (1): BatchNorm2d(256, eps=1e-05, momentum=0.1, affine=True, track_running_stats=True)\n",
       "        (2): ReLU(inplace=True)\n",
       "      )\n",
       "      (1): Conv2dNormActivation(\n",
       "        (0): Conv2d(256, 256, kernel_size=(3, 3), stride=(1, 1), padding=(1, 1), bias=False)\n",
       "        (1): BatchNorm2d(256, eps=1e-05, momentum=0.1, affine=True, track_running_stats=True)\n",
       "        (2): ReLU(inplace=True)\n",
       "      )\n",
       "      (2): Conv2dNormActivation(\n",
       "        (0): Conv2d(256, 256, kernel_size=(3, 3), stride=(1, 1), padding=(1, 1), bias=False)\n",
       "        (1): BatchNorm2d(256, eps=1e-05, momentum=0.1, affine=True, track_running_stats=True)\n",
       "        (2): ReLU(inplace=True)\n",
       "      )\n",
       "      (3): Conv2dNormActivation(\n",
       "        (0): Conv2d(256, 256, kernel_size=(3, 3), stride=(1, 1), padding=(1, 1), bias=False)\n",
       "        (1): BatchNorm2d(256, eps=1e-05, momentum=0.1, affine=True, track_running_stats=True)\n",
       "        (2): ReLU(inplace=True)\n",
       "      )\n",
       "      (4): Flatten(start_dim=1, end_dim=-1)\n",
       "      (5): Linear(in_features=12544, out_features=1024, bias=True)\n",
       "      (6): ReLU(inplace=True)\n",
       "    )\n",
       "    (box_predictor): FastRCNNPredictor(\n",
       "      (cls_score): Linear(in_features=1024, out_features=91, bias=True)\n",
       "      (bbox_pred): Linear(in_features=1024, out_features=364, bias=True)\n",
       "    )\n",
       "  )\n",
       ")"
      ]
     },
     "execution_count": 3,
     "metadata": {},
     "output_type": "execute_result"
    }
   ],
   "source": [
    "model"
   ]
  }
 ],
 "metadata": {
  "kernelspec": {
   "display_name": "Python 3 (ipykernel)",
   "language": "python",
   "name": "python3"
  },
  "language_info": {
   "codemirror_mode": {
    "name": "ipython",
    "version": 3
   },
   "file_extension": ".py",
   "mimetype": "text/x-python",
   "name": "python",
   "nbconvert_exporter": "python",
   "pygments_lexer": "ipython3",
   "version": "3.10.9"
  }
 },
 "nbformat": 4,
 "nbformat_minor": 5
}
